{
 "cells": [
  {
   "cell_type": "code",
   "execution_count": 15,
   "metadata": {
    "executionInfo": {
     "elapsed": 14972,
     "status": "ok",
     "timestamp": 1758524612248,
     "user": {
      "displayName": "Abhishek Adhikari",
      "userId": "04717267656706313486"
     },
     "user_tz": -345
    },
    "id": "8m-w9_YpO8u4"
   },
   "outputs": [],
   "source": [
    "import ast\n",
    "from collections import defaultdict\n",
    "from tensorflow.keras.preprocessing.sequence import pad_sequences\n",
    "from transformers import BertTokenizer"
   ]
  },
  {
   "cell_type": "code",
   "execution_count": 2,
   "metadata": {
    "colab": {
     "base_uri": "https://localhost:8080/"
    },
    "executionInfo": {
     "elapsed": 375,
     "status": "ok",
     "timestamp": 1758515229950,
     "user": {
      "displayName": "Abhishek Adhikari",
      "userId": "04717267656706313486"
     },
     "user_tz": -345
    },
    "id": "8_atWwEAmpD6",
    "outputId": "e1dce371-c99a-4623-ce0d-6cb94951396f"
   },
   "outputs": [
    {
     "name": "stdout",
     "output_type": "stream",
     "text": [
      "            Name  Age  Gender Blood Type Medical Condition Date of Admission  \\\n",
      "0  Bobby JacksOn   30    Male         B-            Cancer        2024-01-31   \n",
      "1   LesLie TErRy   62    Male         A+           Obesity        2019-08-20   \n",
      "2    DaNnY sMitH   76  Female         A-           Obesity        2022-09-22   \n",
      "3   andrEw waTtS   28  Female         O+          Diabetes        2020-11-18   \n",
      "4  adrIENNE bEll   43  Female        AB+            Cancer        2022-09-19   \n",
      "\n",
      "             Doctor                    Hospital Insurance Provider  \\\n",
      "0     Matthew Smith             Sons and Miller         Blue Cross   \n",
      "1   Samantha Davies                     Kim Inc           Medicare   \n",
      "2  Tiffany Mitchell                    Cook PLC              Aetna   \n",
      "3       Kevin Wells  Hernandez Rogers and Vang,           Medicare   \n",
      "4    Kathleen Hanna                 White-White              Aetna   \n",
      "\n",
      "   Billing Amount  Room Number Admission Type Discharge Date   Medication  \\\n",
      "0    18856.281306          328         Urgent     2024-02-02  Paracetamol   \n",
      "1    33643.327287          265      Emergency     2019-08-26    Ibuprofen   \n",
      "2    27955.096079          205      Emergency     2022-10-07      Aspirin   \n",
      "3    37909.782410          450       Elective     2020-12-18    Ibuprofen   \n",
      "4    14238.317814          458         Urgent     2022-10-09   Penicillin   \n",
      "\n",
      "   Test Results  \n",
      "0        Normal  \n",
      "1  Inconclusive  \n",
      "2        Normal  \n",
      "3      Abnormal  \n",
      "4      Abnormal  \n",
      "Index(['Name', 'Age', 'Gender', 'Blood Type', 'Medical Condition',\n",
      "       'Date of Admission', 'Doctor', 'Hospital', 'Insurance Provider',\n",
      "       'Billing Amount', 'Room Number', 'Admission Type', 'Discharge Date',\n",
      "       'Medication', 'Test Results'],\n",
      "      dtype='object')\n"
     ]
    }
   ],
   "source": [
    "import pandas as pd\n",
    "\n",
    "# Replace with your CSV file path\n",
    "df = pd.read_csv(\"/content/drive/MyDrive/paper-implementations/healthcare_dataset.csv\")\n",
    "\n",
    "print(df.head())\n",
    "print(df.columns)\n"
   ]
  },
  {
   "cell_type": "code",
   "execution_count": 3,
   "metadata": {
    "colab": {
     "base_uri": "https://localhost:8080/"
    },
    "executionInfo": {
     "elapsed": 45,
     "status": "ok",
     "timestamp": 1758515238315,
     "user": {
      "displayName": "Abhishek Adhikari",
      "userId": "04717267656706313486"
     },
     "user_tz": -345
    },
    "id": "D3J52hywrLiE",
    "outputId": "77ca9773-1a22-4a0e-aecd-75dbf87f17ef"
   },
   "outputs": [
    {
     "data": {
      "text/plain": [
       "(55500, 15)"
      ]
     },
     "execution_count": 3,
     "metadata": {},
     "output_type": "execute_result"
    }
   ],
   "source": [
    "df.shape"
   ]
  },
  {
   "cell_type": "code",
   "execution_count": null,
   "metadata": {
    "id": "SlHphVuVrRKc"
   },
   "outputs": [],
   "source": [
    "# load tokenizer\n",
    "from transformers import AutoTokenizer\n",
    "tokenizer = AutoTokenizer.from_pretrained(\"bert-base-cased\")"
   ]
  },
  {
   "cell_type": "code",
   "execution_count": 7,
   "metadata": {
    "colab": {
     "base_uri": "https://localhost:8080/"
    },
    "executionInfo": {
     "elapsed": 35883,
     "status": "ok",
     "timestamp": 1758521418187,
     "user": {
      "displayName": "Abhishek Adhikari",
      "userId": "04717267656706313486"
     },
     "user_tz": -345
    },
    "id": "pdAYPj-N9L39",
    "outputId": "38ebb09c-89e6-4bc2-ef69-0a0d3792905a"
   },
   "outputs": [
    {
     "name": "stdout",
     "output_type": "stream",
     "text": [
      "                                              tokens  \\\n",
      "0  [Patient, Bobby, JacksOn,, a, 30-year-old, Mal...   \n",
      "\n",
      "                                              labels  \\\n",
      "0  [O, B-NAME, E-NAME, O, O, O, O, O, O, O, O, O,...   \n",
      "\n",
      "                                                text  \n",
      "0  Patient Bobby JacksOn, a 30-year-old Male with...  \n"
     ]
    }
   ],
   "source": [
    "import pandas as pd\n",
    "import re\n",
    "\n",
    "# Load the original dataset with PHI columns\n",
    "df = pd.read_csv(\"/content/drive/MyDrive/paper-implementations/healthcare_dataset.csv\")\n",
    "\n",
    "# Define PHI columns\n",
    "PHI_COLUMNS = [\n",
    "    \"Name\",\n",
    "    \"Date of Admission\",\n",
    "    \"Doctor\",\n",
    "    \"Hospital\",\n",
    "    \"Insurance Provider\",\n",
    "    \"Room Number\",\n",
    "    \"Discharge Date\"\n",
    "]\n",
    "\n",
    "# Function: Convert a row to free-text\n",
    "def row_to_sentence(row):\n",
    "    sentence = (\n",
    "        f\"Patient {row['Name']}, a {row['Age']}-year-old {row['Gender']} with {row['Medical Condition']}, \"\n",
    "        f\"was admitted on {row['Date of Admission']} to {row['Hospital']} hospital under the care of Dr. {row['Doctor']}. \"\n",
    "        f\"The patient was prescribed {row['Medication']} and had test results marked as {row['Test Results']}. \"\n",
    "        f\"He was discharged on {row['Discharge Date']}.\"\n",
    "    )\n",
    "    return sentence\n",
    "\n",
    "# BIOES tagging function\n",
    "def bioes_label_sentence(sentence, row):\n",
    "    words = sentence.split()\n",
    "    labels = [\"O\"] * len(words)\n",
    "\n",
    "    for col in PHI_COLUMNS:\n",
    "        value = str(row[col])\n",
    "        value_tokens = value.split()\n",
    "\n",
    "        for i in range(len(words)):\n",
    "            # crude matching (ignores punctuation/case)\n",
    "            if re.sub(r'[^\\w\\s]', '', words[i]).lower() == value_tokens[0].lower():\n",
    "                span_len = len(value_tokens)\n",
    "\n",
    "                if span_len == 1:\n",
    "                    labels[i] = f\"S-{col.upper()}\"\n",
    "                else:\n",
    "                    labels[i] = f\"B-{col.upper()}\"\n",
    "                    for j in range(1, span_len-1):\n",
    "                        if i+j < len(labels):\n",
    "                            labels[i+j] = f\"I-{col.upper()}\"\n",
    "                    if i+span_len-1 < len(labels):\n",
    "                        labels[i+span_len-1] = f\"E-{col.upper()}\"\n",
    "    return words, labels\n",
    "\n",
    "# Apply\n",
    "processed = []\n",
    "for _, row in df.iterrows():\n",
    "    text = row_to_sentence(row)\n",
    "    words, labels = bioes_label_sentence(text, row)\n",
    "    processed.append({\"tokens\": words, \"labels\": labels, \"text\": text})\n",
    "\n",
    "processed_df = pd.DataFrame(processed)\n",
    "\n",
    "# Save token-level dataset\n",
    "processed_df.to_csv(\"/content/drive/MyDrive/paper-implementations/annotated_notes.csv\", index=False)\n",
    "print(processed_df.head(1))"
   ]
  },
  {
   "cell_type": "code",
   "execution_count": 9,
   "metadata": {
    "colab": {
     "base_uri": "https://localhost:8080/"
    },
    "executionInfo": {
     "elapsed": 1170,
     "status": "ok",
     "timestamp": 1758521460261,
     "user": {
      "displayName": "Abhishek Adhikari",
      "userId": "04717267656706313486"
     },
     "user_tz": -345
    },
    "id": "-vqrBe6JBOE_",
    "outputId": "1a369fba-c207-430e-d37a-16a120272dfb"
   },
   "outputs": [
    {
     "name": "stdout",
     "output_type": "stream",
     "text": [
      "                                              tokens  \\\n",
      "0  ['Patient', 'Bobby', 'JacksOn,', 'a', '30-year...   \n",
      "1  ['Patient', 'LesLie', 'TErRy,', 'a', '62-year-...   \n",
      "2  ['Patient', 'DaNnY', 'sMitH,', 'a', '76-year-o...   \n",
      "3  ['Patient', 'andrEw', 'waTtS,', 'a', '28-year-...   \n",
      "4  ['Patient', 'adrIENNE', 'bEll,', 'a', '43-year...   \n",
      "\n",
      "                                              labels  \\\n",
      "0  ['O', 'B-NAME', 'E-NAME', 'O', 'O', 'O', 'O', ...   \n",
      "1  ['O', 'B-NAME', 'E-NAME', 'O', 'O', 'O', 'O', ...   \n",
      "2  ['O', 'B-NAME', 'E-NAME', 'O', 'O', 'O', 'O', ...   \n",
      "3  ['O', 'B-NAME', 'E-NAME', 'O', 'O', 'O', 'O', ...   \n",
      "4  ['O', 'B-NAME', 'E-NAME', 'O', 'O', 'O', 'O', ...   \n",
      "\n",
      "                                                text  \n",
      "0  Patient Bobby JacksOn, a 30-year-old Male with...  \n",
      "1  Patient LesLie TErRy, a 62-year-old Male with ...  \n",
      "2  Patient DaNnY sMitH, a 76-year-old Female with...  \n",
      "3  Patient andrEw waTtS, a 28-year-old Female wit...  \n",
      "4  Patient adrIENNE bEll, a 43-year-old Female wi...  \n",
      "Total rows: 55500\n"
     ]
    }
   ],
   "source": [
    "import pandas as pd\n",
    "\n",
    "annotated_file = '/content/drive/MyDrive/paper-implementations/annotated_notes.csv'\n",
    "df = pd.read_csv(annotated_file)\n",
    "print(df.head())\n",
    "print(f\"Total rows: {len(df)}\")"
   ]
  },
  {
   "cell_type": "code",
   "execution_count": 11,
   "metadata": {
    "colab": {
     "base_uri": "https://localhost:8080/"
    },
    "executionInfo": {
     "elapsed": 33,
     "status": "ok",
     "timestamp": 1758522178131,
     "user": {
      "displayName": "Abhishek Adhikari",
      "userId": "04717267656706313486"
     },
     "user_tz": -345
    },
    "id": "3j2_R3A3Ftio",
    "outputId": "c3808a3f-1c31-4ba4-c84a-bb2e0b456ee9"
   },
   "outputs": [
    {
     "name": "stdout",
     "output_type": "stream",
     "text": [
      "<class 'pandas.core.frame.DataFrame'>\n",
      "RangeIndex: 55500 entries, 0 to 55499\n",
      "Data columns (total 3 columns):\n",
      " #   Column  Non-Null Count  Dtype \n",
      "---  ------  --------------  ----- \n",
      " 0   tokens  55500 non-null  object\n",
      " 1   labels  55500 non-null  object\n",
      " 2   text    55500 non-null  object\n",
      "dtypes: object(3)\n",
      "memory usage: 1.3+ MB\n"
     ]
    }
   ],
   "source": [
    "df.info()"
   ]
  },
  {
   "cell_type": "code",
   "execution_count": 16,
   "metadata": {
    "executionInfo": {
     "elapsed": 16593,
     "status": "ok",
     "timestamp": 1758524670394,
     "user": {
      "displayName": "Abhishek Adhikari",
      "userId": "04717267656706313486"
     },
     "user_tz": -345
    },
    "id": "jdIutWKxLQsi"
   },
   "outputs": [],
   "source": [
    "df['tokens'] = df['tokens'].apply(ast.literal_eval)\n",
    "df['labels'] = df['labels'].apply(ast.literal_eval)"
   ]
  },
  {
   "cell_type": "code",
   "execution_count": 17,
   "metadata": {
    "executionInfo": {
     "elapsed": 810,
     "status": "ok",
     "timestamp": 1758524932732,
     "user": {
      "displayName": "Abhishek Adhikari",
      "userId": "04717267656706313486"
     },
     "user_tz": -345
    },
    "id": "E08qKrzBPL7Y"
   },
   "outputs": [],
   "source": [
    "# Vocabulary for tokens\n",
    "token2idx = defaultdict(lambda: len(token2idx))\n",
    "token2idx['<PAD>'] = 0  # Padding token\n",
    "for tokens in df['tokens']:\n",
    "    for token in tokens:\n",
    "        token2idx[token]"
   ]
  },
  {
   "cell_type": "code",
   "execution_count": 19,
   "metadata": {
    "executionInfo": {
     "elapsed": 569,
     "status": "ok",
     "timestamp": 1758525167645,
     "user": {
      "displayName": "Abhishek Adhikari",
      "userId": "04717267656706313486"
     },
     "user_tz": -345
    },
    "id": "KCHMW3iQQP1S"
   },
   "outputs": [],
   "source": [
    "# Vocabulary for labels\n",
    "tag2idx = defaultdict(lambda: len(tag2idx))\n",
    "tag2idx['<PAD>'] = 0  # Padding tag\n",
    "for labels in df['labels']:\n",
    "    for label in labels:\n",
    "        tag2idx[label]"
   ]
  },
  {
   "cell_type": "code",
   "execution_count": 20,
   "metadata": {
    "colab": {
     "base_uri": "https://localhost:8080/"
    },
    "executionInfo": {
     "elapsed": 46,
     "status": "ok",
     "timestamp": 1758525170454,
     "user": {
      "displayName": "Abhishek Adhikari",
      "userId": "04717267656706313486"
     },
     "user_tz": -345
    },
    "id": "icDq11PNQVge",
    "outputId": "ffa8a993-9bca-45b2-e893-60ac005b03f2"
   },
   "outputs": [
    {
     "name": "stdout",
     "output_type": "stream",
     "text": [
      "Vocabulary size: 70717, Number of tags: 11\n"
     ]
    }
   ],
   "source": [
    "idx2token = {i: t for t, i in token2idx.items()}\n",
    "idx2tag = {i: t for t, i in tag2idx.items()}\n",
    "\n",
    "vocab_size = len(token2idx)\n",
    "num_tags = len(tag2idx)\n",
    "print(f\"Vocabulary size: {vocab_size}, Number of tags: {num_tags}\")"
   ]
  },
  {
   "cell_type": "code",
   "execution_count": 23,
   "metadata": {
    "executionInfo": {
     "elapsed": 19,
     "status": "ok",
     "timestamp": 1758526292629,
     "user": {
      "displayName": "Abhishek Adhikari",
      "userId": "04717267656706313486"
     },
     "user_tz": -345
    },
    "id": "n-WlFKdvVKYe"
   },
   "outputs": [],
   "source": [
    "# Prepare sequences function\n",
    "def prepare_sequences(df, max_len=100):\n",
    "    \"\"\"\n",
    "    Convert tokens and labels to padded sequences of indices.\n",
    "\n",
    "    Args:\n",
    "        df (pd.DataFrame): DataFrame with 'tokens' and 'labels' columns as lists.\n",
    "        max_len (int): Maximum sequence length for padding (default 100).\n",
    "\n",
    "    Returns:\n",
    "        tuple: Padded sequences of token indices (X) and tag indices (y).\n",
    "    \"\"\"\n",
    "    # Convert tokens to indices\n",
    "    X = [[token2idx[t] for t in tokens] for tokens in df['tokens']]\n",
    "    # Convert labels to indices\n",
    "    y = [[tag2idx[l] for l in labels] for labels in df['labels']]\n",
    "\n",
    "    # Pad sequences to max_len\n",
    "    X = pad_sequences(X, maxlen=max_len, padding='post', value=token2idx['<PAD>'])\n",
    "    y = pad_sequences(y, maxlen=max_len, padding='post', value=tag2idx['<PAD>'])\n",
    "\n",
    "    return X, y"
   ]
  },
  {
   "cell_type": "code",
   "execution_count": 24,
   "metadata": {
    "executionInfo": {
     "elapsed": 1331,
     "status": "ok",
     "timestamp": 1758526300392,
     "user": {
      "displayName": "Abhishek Adhikari",
      "userId": "04717267656706313486"
     },
     "user_tz": -345
    },
    "id": "QmGUBXQCUpWl"
   },
   "outputs": [],
   "source": [
    "# Split\n",
    "from sklearn.model_selection import train_test_split\n",
    "train_val_df, test_df = train_test_split(df, test_size=0.2, random_state=42)\n",
    "train_df, val_df = train_test_split(train_val_df, test_size=0.2, random_state=42)\n",
    "X_train, y_train = prepare_sequences(train_df)\n",
    "X_val, y_val = prepare_sequences(val_df)\n",
    "X_test, y_test = prepare_sequences(test_df)"
   ]
  },
  {
   "cell_type": "code",
   "execution_count": 25,
   "metadata": {
    "colab": {
     "base_uri": "https://localhost:8080/"
    },
    "executionInfo": {
     "elapsed": 22,
     "status": "ok",
     "timestamp": 1758526335433,
     "user": {
      "displayName": "Abhishek Adhikari",
      "userId": "04717267656706313486"
     },
     "user_tz": -345
    },
    "id": "4dYqN76qU0Wx",
    "outputId": "3e9f7b00-2fae-480c-a9fb-9ccf315b2b7c"
   },
   "outputs": [
    {
     "name": "stdout",
     "output_type": "stream",
     "text": [
      "X_train shape: (35520, 100), y_train shape: (35520, 100)\n"
     ]
    }
   ],
   "source": [
    "print(f\"X_train shape: {X_train.shape}, y_train shape: {y_train.shape}\")"
   ]
  }
 ],
 "metadata": {
  "colab": {
   "authorship_tag": "ABX9TyO0JeiI9iM3mDgahjNhpwvi",
   "mount_file_id": "1BqrnGTPxwACyfr5M1Kb2QWO3eI7tfojt",
   "provenance": []
  },
  "kernelspec": {
   "display_name": "Python 3",
   "name": "python3"
  },
  "language_info": {
   "name": "python"
  }
 },
 "nbformat": 4,
 "nbformat_minor": 0
}
